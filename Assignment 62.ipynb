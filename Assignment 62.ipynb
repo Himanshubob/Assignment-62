{
 "cells": [
  {
   "cell_type": "markdown",
   "id": "8ac0f887",
   "metadata": {},
   "source": [
    "# Q1. What is a projection and how is it used in PCA?"
   ]
  },
  {
   "cell_type": "markdown",
   "id": "2dfdafef",
   "metadata": {},
   "source": [
    " # ans.. projection datapoint project the principal componant line  PCA  is use to higer im data reduce the lesser dim data ."
   ]
  },
  {
   "cell_type": "markdown",
   "id": "78293ea0",
   "metadata": {},
   "source": [
    "# Q2. How does the optimization problem in PCA work, and what is it trying to achieve?"
   ]
  },
  {
   "cell_type": "markdown",
   "id": "e7236b8d",
   "metadata": {},
   "source": [
    "# ans ..PCA reduse the higher dim data to lower dim data PCA extracte the feature  and reduce the dim."
   ]
  },
  {
   "cell_type": "markdown",
   "id": "ed1492b6",
   "metadata": {},
   "source": [
    "# Q3. What is the relationship between covariance matrices and PCA?"
   ]
  },
  {
   "cell_type": "markdown",
   "id": "907f7b68",
   "metadata": {},
   "source": [
    "# PCA is simply described as “diagonalizing the covariance matrix”. "
   ]
  },
  {
   "cell_type": "markdown",
   "id": "a5130bfc",
   "metadata": {},
   "source": [
    "# Q4. How does the choice of number of principal components impact the performance of PCA?"
   ]
  },
  {
   "cell_type": "markdown",
   "id": "ff72e754",
   "metadata": {},
   "source": [
    "# set a threshold of explained variance, such as 80%, and then select the number of components that generate a cumulative sum of explained variance as close as possible of that threshold."
   ]
  },
  {
   "cell_type": "markdown",
   "id": "a4f52f4e",
   "metadata": {},
   "source": [
    "# Q5. How can PCA be used in feature selection, and what are the benefits of using it for this purpose?"
   ]
  },
  {
   "cell_type": "markdown",
   "id": "51ae97fe",
   "metadata": {},
   "source": [
    "# we have the many feature but some feature are not impotant  so we are use the  the pca and extracat the feature  and reduse the dim..\n"
   ]
  },
  {
   "cell_type": "markdown",
   "id": "30c757e7",
   "metadata": {},
   "source": [
    "# Q6. What are some common applications of PCA in data science and machine learning?"
   ]
  },
  {
   "cell_type": "markdown",
   "id": "bfaeb346",
   "metadata": {},
   "source": [
    "# PCA is used to visualize multidimensional data.\n",
    "# It is used to reduce the number of dimensions in healthcare data.\n",
    "# PCA can help resize an image.\n",
    "# It can be used in finance to analyze stock data and forecast returns.\n",
    "# PCA helps to find patterns in the high-dimensional datasets"
   ]
  },
  {
   "cell_type": "markdown",
   "id": "74b4b21a",
   "metadata": {},
   "source": [
    "# Q7.What is the relationship between spread and variance in PCA?"
   ]
  },
  {
   "cell_type": "markdown",
   "id": "6c986840",
   "metadata": {},
   "source": [
    "# ans .. spread and variance  both are project the same vector"
   ]
  },
  {
   "cell_type": "markdown",
   "id": "cd8ce82c",
   "metadata": {},
   "source": [
    "# Q8. How does PCA use the spread and variance of the data to identify principal components?"
   ]
  },
  {
   "cell_type": "markdown",
   "id": "f6c39457",
   "metadata": {},
   "source": [
    "# PCA interprets data variance by finding orthogonal directions (principal components) in the data that capture the most information. "
   ]
  },
  {
   "cell_type": "markdown",
   "id": "b2b6b55a",
   "metadata": {},
   "source": [
    "# Q9. How does PCA handle data with high variance in some dimensions but low variance in others?"
   ]
  },
  {
   "cell_type": "markdown",
   "id": "8f5038ff",
   "metadata": {},
   "source": [
    "# 1. transeformation to calculate the covariance  matrix \n",
    "## 1 clcuate the eigen value and egien vecotor \n",
    "# 3. calcualte the PC1 ,PC2 ,... "
   ]
  },
  {
   "cell_type": "code",
   "execution_count": null,
   "id": "b0a69f52",
   "metadata": {},
   "outputs": [],
   "source": []
  }
 ],
 "metadata": {
  "kernelspec": {
   "display_name": "Python 3 (ipykernel)",
   "language": "python",
   "name": "python3"
  },
  "language_info": {
   "codemirror_mode": {
    "name": "ipython",
    "version": 3
   },
   "file_extension": ".py",
   "mimetype": "text/x-python",
   "name": "python",
   "nbconvert_exporter": "python",
   "pygments_lexer": "ipython3",
   "version": "3.10.9"
  }
 },
 "nbformat": 4,
 "nbformat_minor": 5
}
